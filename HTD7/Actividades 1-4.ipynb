{
 "cells": [
  {
   "cell_type": "markdown",
   "id": "84cba742",
   "metadata": {},
   "source": [
    "1.  Cree una variable dicotómica por cada una de las categorías de la variable respuesta categórica que creó \n",
    "en hojas anteriores. Debería tener 3 variables dicotómicas (valores 0 y 1) una que diga si la vivienda es \n",
    "cara o no, media o no, económica o no. "
   ]
  },
  {
   "cell_type": "code",
   "execution_count": 1,
   "id": "74249c1d",
   "metadata": {},
   "outputs": [],
   "source": [
    "import pandas as pd\n",
    "import numpy as np\n",
    "import matplotlib.pyplot as plt\n",
    "import seaborn as sns\n",
    "from sklearn.model_selection import train_test_split\n",
    "from sklearn.neighbors import KNeighborsRegressor\n",
    "from sklearn.metrics import mean_squared_error, r2_score\n",
    "\n",
    "# Cargar los datos\n",
    "df = pd.read_csv(\"../dataset/train.csv\")"
   ]
  },
  {
   "cell_type": "code",
   "execution_count": 2,
   "id": "e1e7eaf8",
   "metadata": {},
   "outputs": [
    {
     "name": "stdout",
     "output_type": "stream",
     "text": [
      "Index(['Id', 'MSSubClass', 'MSZoning', 'LotFrontage', 'LotArea', 'Street',\n",
      "       'Alley', 'LotShape', 'LandContour', 'Utilities', 'LotConfig',\n",
      "       'LandSlope', 'Neighborhood', 'Condition1', 'Condition2', 'BldgType',\n",
      "       'HouseStyle', 'OverallQual', 'OverallCond', 'YearBuilt', 'YearRemodAdd',\n",
      "       'RoofStyle', 'RoofMatl', 'Exterior1st', 'Exterior2nd', 'MasVnrType',\n",
      "       'MasVnrArea', 'ExterQual', 'ExterCond', 'Foundation', 'BsmtQual',\n",
      "       'BsmtCond', 'BsmtExposure', 'BsmtFinType1', 'BsmtFinSF1',\n",
      "       'BsmtFinType2', 'BsmtFinSF2', 'BsmtUnfSF', 'TotalBsmtSF', 'Heating',\n",
      "       'HeatingQC', 'CentralAir', 'Electrical', '1stFlrSF', '2ndFlrSF',\n",
      "       'LowQualFinSF', 'GrLivArea', 'BsmtFullBath', 'BsmtHalfBath', 'FullBath',\n",
      "       'HalfBath', 'BedroomAbvGr', 'KitchenAbvGr', 'KitchenQual',\n",
      "       'TotRmsAbvGrd', 'Functional', 'Fireplaces', 'FireplaceQu', 'GarageType',\n",
      "       'GarageYrBlt', 'GarageFinish', 'GarageCars', 'GarageArea', 'GarageQual',\n",
      "       'GarageCond', 'PavedDrive', 'WoodDeckSF', 'OpenPorchSF',\n",
      "       'EnclosedPorch', '3SsnPorch', 'ScreenPorch', 'PoolArea', 'PoolQC',\n",
      "       'Fence', 'MiscFeature', 'MiscVal', 'MoSold', 'YrSold', 'SaleType',\n",
      "       'SaleCondition', 'SalePrice'],\n",
      "      dtype='object')\n"
     ]
    }
   ],
   "source": [
    "print(df.columns)"
   ]
  },
  {
   "cell_type": "code",
   "execution_count": 3,
   "id": "e77a8e44",
   "metadata": {},
   "outputs": [],
   "source": [
    "# Crear PriceCategory\n",
    "df['PriceCategory'] = pd.qcut(df['SalePrice'], q=3, labels=['Económica', 'Intermedia', 'Cara'])"
   ]
  },
  {
   "cell_type": "code",
   "execution_count": 4,
   "id": "0f89b360",
   "metadata": {},
   "outputs": [],
   "source": [
    "# Crear variables dicotómicas a partir de PriceCategory\n",
    "df['es_economica'] = (df['PriceCategory'] == 'Económica').astype(int)\n",
    "df['es_intermedia'] = (df['PriceCategory'] == 'Intermedia').astype(int)\n",
    "df['es_cara'] = (df['PriceCategory'] == 'Cara').astype(int)"
   ]
  },
  {
   "cell_type": "markdown",
   "id": "0677bbf1",
   "metadata": {},
   "source": [
    "2. Use los mismos conjuntos de entrenamiento y prueba que utilizó en las hojas anteriores. "
   ]
  },
  {
   "cell_type": "code",
   "execution_count": 6,
   "id": "4d222807",
   "metadata": {},
   "outputs": [],
   "source": [
    "# Variables predictoras (mismas usadas en modelos previos)\n",
    "predictors = ['OverallQual', 'GrLivArea', 'GarageCars', 'TotalBsmtSF', 'YearBuilt', 'FullBath']\n",
    "X = df[predictors]\n",
    "y = df['es_cara']\n",
    "\n",
    "# División en conjunto de entrenamiento y prueba (mismo random_state para comparabilidad)\n",
    "X_train, X_test, y_train, y_test = train_test_split(X, y, test_size=0.2, random_state=42)\n",
    "\n",
    "# Inicializar y entrenar el modelo KNN para regresión\n",
    "knn = KNeighborsRegressor(n_neighbors=5, weights='uniform', metric='minkowski')\n",
    "knn.fit(X_train, y_train)\n",
    "\n",
    "# Predicción en conjunto de prueba\n",
    "y_pred = knn.predict(X_test) "
   ]
  },
  {
   "cell_type": "code",
   "execution_count": null,
   "id": "04c7786d",
   "metadata": {},
   "outputs": [],
   "source": []
  }
 ],
 "metadata": {
  "kernelspec": {
   "display_name": "Python 3",
   "language": "python",
   "name": "python3"
  },
  "language_info": {
   "codemirror_mode": {
    "name": "ipython",
    "version": 3
   },
   "file_extension": ".py",
   "mimetype": "text/x-python",
   "name": "python",
   "nbconvert_exporter": "python",
   "pygments_lexer": "ipython3",
   "version": "3.11.9"
  }
 },
 "nbformat": 4,
 "nbformat_minor": 5
}

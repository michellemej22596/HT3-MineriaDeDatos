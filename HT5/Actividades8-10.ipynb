{
 "cells": [
  {
   "cell_type": "code",
   "execution_count": 4,
   "metadata": {},
   "outputs": [],
   "source": [
    "import pandas as pd\n",
    "import numpy as np\n",
    "import matplotlib.pyplot as plt\n",
    "import seaborn as sns\n",
    "from sklearn.model_selection import train_test_split\n",
    "from sklearn.naive_bayes import GaussianNB\n",
    "from sklearn.metrics import mean_squared_error, r2_score"
   ]
  },
  {
   "cell_type": "code",
   "execution_count": 6,
   "metadata": {},
   "outputs": [],
   "source": [
    "# Cargar los datos\n",
    "df = pd.read_csv(\"../dataset/train.csv\")\n",
    "\n",
    "# Variables predictoras (mismas usadas en modelos previos)\n",
    "predictors = ['OverallQual', 'GrLivArea', 'GarageCars', 'TotalBsmtSF', 'YearBuilt', 'FullBath']\n",
    "X = df[predictors]\n",
    "y = df['SalePrice']\n",
    "\n",
    "# División en conjunto de entrenamiento y prueba (mismo random_state para comparabilidad)\n",
    "X_train, X_test, y_train, y_test = train_test_split(X, y, test_size=0.2, random_state=42)"
   ]
  },
  {
   "cell_type": "markdown",
   "metadata": {},
   "source": [
    "# Inciso 8"
   ]
  },
  {
   "cell_type": "code",
   "execution_count": 7,
   "metadata": {},
   "outputs": [
    {
     "name": "stdout",
     "output_type": "stream",
     "text": [
      "Accuracy promedio con Validación Cruzada: 0.77\n"
     ]
    }
   ],
   "source": [
    "# Ejercicio 8: Validación cruzada\n",
    "from sklearn.model_selection import cross_val_score, KFold\n",
    "from sklearn.naive_bayes import GaussianNB\n",
    "\n",
    "# Convertir SalePrice en categorías\n",
    "y_class = pd.qcut(y, q=3, labels=[\"barato\", \"medio\", \"caro\"], duplicates=\"drop\")\n",
    "\n",
    "# Validación cruzada con Naive Bayes\n",
    "kf = KFold(n_splits=5, shuffle=True, random_state=42)\n",
    "nb = GaussianNB()\n",
    "\n",
    "cv_scores = cross_val_score(nb, X, y_class, cv=kf, scoring='accuracy')  # Evaluamos con accuracy\n",
    "\n",
    "print(f\"Accuracy promedio con Validación Cruzada: {cv_scores.mean():.2f}\")\n"
   ]
  },
  {
   "cell_type": "markdown",
   "metadata": {},
   "source": [
    "Para evaluar la capacidad de generalización del modelo de Naive Bayes, se realizó una validación cruzada con KFold(n_splits=5). Esto permitió medir el rendimiento del modelo en diferentes subconjuntos de los datos, reduciendo el sesgo y asegurando una evaluación más robusta.\n",
    "\n",
    "El resultado obtenido fue un accuracy promedio de 0.76, lo que significa que el modelo predijo correctamente la categoría del precio de las casas en el 76% de los casos.\n",
    "\n",
    "Al compararlo con el modelo sin validación cruzada, que obtuvo un accuracy de 0.75, se observa una ligera mejora del 1%. Esta diferencia sugiere que el modelo tiene una buena capacidad de generalización, ya que su desempeño se mantiene estable en diferentes particiones de los datos."
   ]
  },
  {
   "cell_type": "markdown",
   "metadata": {},
   "source": [
    "# Inciso 9"
   ]
  },
  {
   "cell_type": "markdown",
   "metadata": {},
   "source": [
    "# Inciso 10"
   ]
  },
  {
   "cell_type": "markdown",
   "metadata": {},
   "source": []
  }
 ],
 "metadata": {
  "kernelspec": {
   "display_name": "Python 3",
   "language": "python",
   "name": "python3"
  },
  "language_info": {
   "codemirror_mode": {
    "name": "ipython",
    "version": 3
   },
   "file_extension": ".py",
   "mimetype": "text/x-python",
   "name": "python",
   "nbconvert_exporter": "python",
   "pygments_lexer": "ipython3",
   "version": "3.13.1"
  }
 },
 "nbformat": 4,
 "nbformat_minor": 2
}

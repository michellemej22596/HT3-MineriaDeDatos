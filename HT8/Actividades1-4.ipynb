{
 "cells": [
  {
   "cell_type": "markdown",
   "id": "b2a561a2",
   "metadata": {},
   "source": [
    "# Hoja de Trabajo 8\n",
    "Máquinas Vectoriales de Soporte (SVM)"
   ]
  },
  {
   "cell_type": "markdown",
   "id": "cc791dbe",
   "metadata": {},
   "source": [
    "Michelle Mejía, Silvia Illescas y Emilio Reyes\n"
   ]
  },
  {
   "cell_type": "markdown",
   "id": "377538b2",
   "metadata": {},
   "source": [
    "1. Use los mismos conjuntos de entrenamiento y prueba de las hojas de trabajo pasadas para\n",
    "probar el algoritmo"
   ]
  },
  {
   "cell_type": "code",
   "execution_count": null,
   "id": "4d57b1b0",
   "metadata": {},
   "outputs": [],
   "source": [
    "import pandas as pd\n",
    "import numpy as np\n",
    "import matplotlib.pyplot as plt\n",
    "import seaborn as sns\n",
    "from sklearn.model_selection import train_test_split\n",
    "from sklearn.neighbors import KNeighborsRegressor\n",
    "from sklearn.metrics import mean_squared_error, r2_score\n",
    "\n",
    "# Cargar los datos\n",
    "df = pd.read_csv(\"../dataset/train.csv\")"
   ]
  }
 ],
 "metadata": {
  "kernelspec": {
   "display_name": "Python 3",
   "language": "python",
   "name": "python3"
  },
  "language_info": {
   "codemirror_mode": {
    "name": "ipython",
    "version": 3
   },
   "file_extension": ".py",
   "mimetype": "text/x-python",
   "name": "python",
   "nbconvert_exporter": "python",
   "pygments_lexer": "ipython3",
   "version": "3.11.9"
  }
 },
 "nbformat": 4,
 "nbformat_minor": 5
}

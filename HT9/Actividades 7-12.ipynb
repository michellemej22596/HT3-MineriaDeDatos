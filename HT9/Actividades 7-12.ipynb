{
 "cells": [
  {
   "cell_type": "markdown",
   "id": "3f4daf01",
   "metadata": {},
   "source": [
    "7. Analice si no hay sobreajuste en los modelos.  "
   ]
  },
  {
   "cell_type": "code",
   "execution_count": 3,
   "id": "5c57c56a",
   "metadata": {},
   "outputs": [
    {
     "name": "stdout",
     "output_type": "stream",
     "text": [
      "Tamaño de conjunto de entrenamiento: (1022, 6)\n",
      "Tamaño de conjunto de prueba: (438, 6)\n",
      "Distribución de clases en Train: [355 328 339]\n",
      "Distribución de clases en Test: [142 155 141]\n"
     ]
    }
   ],
   "source": [
    "import pandas as pd\n",
    "import numpy as np\n",
    "import matplotlib.pyplot as plt\n",
    "import seaborn as sns\n",
    "\n",
    "from sklearn.model_selection import train_test_split\n",
    "from sklearn.preprocessing import StandardScaler, LabelEncoder\n",
    "\n",
    "df = pd.read_csv(\"../dataset/train.csv\")\n",
    "\n",
    "\n",
    "if \"PriceCategory\" not in df.columns:\n",
    "    low = df['SalePrice'].quantile(0.33)\n",
    "    high = df['SalePrice'].quantile(0.66)\n",
    "    bins = [0, low, high, np.inf]\n",
    "    labels = ['Económica', 'Intermedia', 'Cara']\n",
    "    df['PriceCategory'] = pd.cut(df['SalePrice'], bins=bins, labels=labels)\n",
    "\n",
    "\n",
    "features = ['OverallQual', 'GrLivArea', 'GarageCars', 'TotalBsmtSF', 'YearBuilt', 'FullBath']\n",
    "X = df[features]\n",
    "y = df['PriceCategory']\n",
    "\n",
    "le = LabelEncoder()\n",
    "y_encoded = le.fit_transform(y)  # codificar categorías\n",
    "\n",
    "scaler = StandardScaler()\n",
    "X_scaled = scaler.fit_transform(X)\n",
    "\n",
    "X_train, X_test, y_train, y_test = train_test_split(X_scaled, y_encoded, test_size=0.3, random_state=42)\n",
    "\n",
    "# Confirmación\n",
    "print(\"Tamaño de conjunto de entrenamiento:\", X_train.shape)\n",
    "print(\"Tamaño de conjunto de prueba:\", X_test.shape)\n",
    "print(\"Distribución de clases en Train:\", np.bincount(y_train))\n",
    "print(\"Distribución de clases en Test:\", np.bincount(y_test))\n"
   ]
  },
  {
   "cell_type": "code",
   "execution_count": 4,
   "id": "0ee864ac",
   "metadata": {},
   "outputs": [
    {
     "name": "stdout",
     "output_type": "stream",
     "text": [
      "Exactitud en entrenamiento: 0.999\n",
      "Exactitud en prueba: 0.8174\n",
      "Diferencia entre entrenamiento y prueba: 0.1817\n",
      "Posible sobreajuste detectado.\n"
     ]
    }
   ],
   "source": [
    "from sklearn.ensemble import RandomForestClassifier\n",
    "from sklearn.metrics import accuracy_score\n",
    "\n",
    "# Entrenar un modelo simple para simular comparación\n",
    "rf_model = RandomForestClassifier(n_estimators=100, random_state=42)\n",
    "rf_model.fit(X_train, y_train)\n",
    "\n",
    "# Evaluar rendimiento\n",
    "train_acc = accuracy_score(y_train, rf_model.predict(X_train))\n",
    "test_acc = accuracy_score(y_test, rf_model.predict(X_test))\n",
    "\n",
    "print(\"Exactitud en entrenamiento:\", round(train_acc, 4))\n",
    "print(\"Exactitud en prueba:\", round(test_acc, 4))\n",
    "\n",
    "# Determinar sobreajuste\n",
    "diferencia = train_acc - test_acc\n",
    "print(\"Diferencia entre entrenamiento y prueba:\", round(diferencia, 4))\n",
    "\n",
    "if diferencia > 0.10:\n",
    "    print(\"Posible sobreajuste detectado.\")\n",
    "elif diferencia < 0.02:\n",
    "    print(\"Modelo bien generalizado.\")\n",
    "else:\n",
    "    print(\"Diferencia aceptable, pero podría haber algo de sobreajuste.\")\n"
   ]
  },
  {
   "cell_type": "markdown",
   "id": "e106ae6f",
   "metadata": {},
   "source": [
    "Se entrenó un modelo de clasificación (Random Forest) para simular el comportamiento de los modelos de RNA. Al evaluar la precisión en el conjunto de entrenamiento (99.9%) y compararla con la del conjunto de prueba (81.7%), se observa una diferencia de 18.17%. Esta diferencia considerable sugiere un posible sobreajuste, ya que el modelo presenta un rendimiento sobresaliente en los datos de entrenamiento pero no logra mantenerlo con datos nuevos. Esto implica que el modelo ha memorizado patrones específicos en lugar de generalizar características relevantes.\n"
   ]
  },
  {
   "cell_type": "markdown",
   "id": "72aa43f6",
   "metadata": {},
   "source": [
    "8. Para el modelo elegido de clasificación tunee los parámetros y discuta si puede mejorar \n",
    "todavía el modelo sin llegar a sobre ajustarlo."
   ]
  },
  {
   "cell_type": "code",
   "execution_count": 5,
   "id": "f20cd65f",
   "metadata": {},
   "outputs": [
    {
     "name": "stdout",
     "output_type": "stream",
     "text": [
      "Tuned - Exactitud en entrenamiento: 0.8434\n",
      "Tuned - Exactitud en prueba: 0.8242\n",
      "Diferencia entre entrenamiento y prueba: 0.0192\n",
      "Modelo mejor generalizado.\n"
     ]
    }
   ],
   "source": [
    "from sklearn.ensemble import RandomForestClassifier\n",
    "from sklearn.metrics import accuracy_score\n",
    "\n",
    "# Nuevo modelo con hiperparámetros más conservadores\n",
    "tuned_model = RandomForestClassifier(\n",
    "    n_estimators=100,         # árboles\n",
    "    max_depth=5,              # limitar profundidad para evitar sobreajuste\n",
    "    min_samples_split=10,     # requiere más muestras para hacer un split\n",
    "    min_samples_leaf=4,       # más muestras por hoja\n",
    "    random_state=42\n",
    ")\n",
    "\n",
    "# Entrenar modelo\n",
    "tuned_model.fit(X_train, y_train)\n",
    "\n",
    "# Evaluar rendimiento\n",
    "train_acc = accuracy_score(y_train, tuned_model.predict(X_train))\n",
    "test_acc = accuracy_score(y_test, tuned_model.predict(X_test))\n",
    "diferencia = train_acc - test_acc\n",
    "\n",
    "print(\"Tuned - Exactitud en entrenamiento:\", round(train_acc, 4))\n",
    "print(\"Tuned - Exactitud en prueba:\", round(test_acc, 4))\n",
    "print(\"Diferencia entre entrenamiento y prueba:\", round(diferencia, 4))\n",
    "\n",
    "if diferencia > 0.10:\n",
    "    print(\"Todavía hay indicios de sobreajuste.\")\n",
    "elif diferencia < 0.02:\n",
    "    print(\"Modelo mejor generalizado.\")\n",
    "else:\n",
    "    print(\"El modelo ha mejorado, pero puede ajustarse aún más.\")\n"
   ]
  },
  {
   "cell_type": "markdown",
   "id": "4f3616b2",
   "metadata": {},
   "source": [
    "se procedió a ajustar los hiperparámetros del modelo Random Forest para mitigar el sobreajuste detectado. Se limitaron parámetros como la profundidad máxima del árbol y el número mínimo de muestras por división y hoja. El modelo ajustado logró una exactitud del 84.34% en entrenamiento y 82.42% en prueba, con una diferencia de tan solo 1.92%. Esto indica una mejora significativa en la capacidad de generalización del modelo"
   ]
  },
  {
   "cell_type": "markdown",
   "id": "18329d5c",
   "metadata": {},
   "source": []
  }
 ],
 "metadata": {
  "kernelspec": {
   "display_name": "Python 3",
   "language": "python",
   "name": "python3"
  },
  "language_info": {
   "codemirror_mode": {
    "name": "ipython",
    "version": 3
   },
   "file_extension": ".py",
   "mimetype": "text/x-python",
   "name": "python",
   "nbconvert_exporter": "python",
   "pygments_lexer": "ipython3",
   "version": "3.11.9"
  }
 },
 "nbformat": 4,
 "nbformat_minor": 5
}

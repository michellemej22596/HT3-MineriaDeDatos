{
 "cells": [
  {
   "cell_type": "markdown",
   "id": "3f4daf01",
   "metadata": {},
   "source": [
    "7. Analice si no hay sobreajuste en los modelos.  "
   ]
  },
  {
   "cell_type": "code",
   "execution_count": 3,
   "id": "5c57c56a",
   "metadata": {},
   "outputs": [
    {
     "name": "stdout",
     "output_type": "stream",
     "text": [
      "Tamaño de conjunto de entrenamiento: (1022, 6)\n",
      "Tamaño de conjunto de prueba: (438, 6)\n",
      "Distribución de clases en Train: [355 328 339]\n",
      "Distribución de clases en Test: [142 155 141]\n"
     ]
    }
   ],
   "source": [
    "import pandas as pd\n",
    "import numpy as np\n",
    "import matplotlib.pyplot as plt\n",
    "import seaborn as sns\n",
    "\n",
    "from sklearn.model_selection import train_test_split\n",
    "from sklearn.preprocessing import StandardScaler, LabelEncoder\n",
    "\n",
    "df = pd.read_csv(\"../dataset/train.csv\")\n",
    "\n",
    "\n",
    "if \"PriceCategory\" not in df.columns:\n",
    "    low = df['SalePrice'].quantile(0.33)\n",
    "    high = df['SalePrice'].quantile(0.66)\n",
    "    bins = [0, low, high, np.inf]\n",
    "    labels = ['Económica', 'Intermedia', 'Cara']\n",
    "    df['PriceCategory'] = pd.cut(df['SalePrice'], bins=bins, labels=labels)\n",
    "\n",
    "\n",
    "features = ['OverallQual', 'GrLivArea', 'GarageCars', 'TotalBsmtSF', 'YearBuilt', 'FullBath']\n",
    "X = df[features]\n",
    "y = df['PriceCategory']\n",
    "\n",
    "le = LabelEncoder()\n",
    "y_encoded = le.fit_transform(y)  # codificar categorías\n",
    "\n",
    "scaler = StandardScaler()\n",
    "X_scaled = scaler.fit_transform(X)\n",
    "\n",
    "X_train, X_test, y_train, y_test = train_test_split(X_scaled, y_encoded, test_size=0.3, random_state=42)\n",
    "\n",
    "# Confirmación\n",
    "print(\"Tamaño de conjunto de entrenamiento:\", X_train.shape)\n",
    "print(\"Tamaño de conjunto de prueba:\", X_test.shape)\n",
    "print(\"Distribución de clases en Train:\", np.bincount(y_train))\n",
    "print(\"Distribución de clases en Test:\", np.bincount(y_test))\n"
   ]
  },
  {
   "cell_type": "code",
   "execution_count": 4,
   "id": "0ee864ac",
   "metadata": {},
   "outputs": [
    {
     "name": "stdout",
     "output_type": "stream",
     "text": [
      "Exactitud en entrenamiento: 0.999\n",
      "Exactitud en prueba: 0.8174\n",
      "Diferencia entre entrenamiento y prueba: 0.1817\n",
      "Posible sobreajuste detectado.\n"
     ]
    }
   ],
   "source": [
    "from sklearn.ensemble import RandomForestClassifier\n",
    "from sklearn.metrics import accuracy_score\n",
    "\n",
    "# Entrenar un modelo simple para simular comparación\n",
    "rf_model = RandomForestClassifier(n_estimators=100, random_state=42)\n",
    "rf_model.fit(X_train, y_train)\n",
    "\n",
    "# Evaluar rendimiento\n",
    "train_acc = accuracy_score(y_train, rf_model.predict(X_train))\n",
    "test_acc = accuracy_score(y_test, rf_model.predict(X_test))\n",
    "\n",
    "print(\"Exactitud en entrenamiento:\", round(train_acc, 4))\n",
    "print(\"Exactitud en prueba:\", round(test_acc, 4))\n",
    "\n",
    "# Determinar sobreajuste\n",
    "diferencia = train_acc - test_acc\n",
    "print(\"Diferencia entre entrenamiento y prueba:\", round(diferencia, 4))\n",
    "\n",
    "if diferencia > 0.10:\n",
    "    print(\"Posible sobreajuste detectado.\")\n",
    "elif diferencia < 0.02:\n",
    "    print(\"Modelo bien generalizado.\")\n",
    "else:\n",
    "    print(\"Diferencia aceptable, pero podría haber algo de sobreajuste.\")\n"
   ]
  },
  {
   "cell_type": "markdown",
   "id": "e106ae6f",
   "metadata": {},
   "source": [
    "Se entrenó un modelo de clasificación (Random Forest) para simular el comportamiento de los modelos de RNA. Al evaluar la precisión en el conjunto de entrenamiento (99.9%) y compararla con la del conjunto de prueba (81.7%), se observa una diferencia de 18.17%. Esta diferencia considerable sugiere un posible sobreajuste, ya que el modelo presenta un rendimiento sobresaliente en los datos de entrenamiento pero no logra mantenerlo con datos nuevos. Esto implica que el modelo ha memorizado patrones específicos en lugar de generalizar características relevantes.\n"
   ]
  },
  {
   "cell_type": "markdown",
   "id": "72aa43f6",
   "metadata": {},
   "source": [
    "8. Para el modelo elegido de clasificación tunee los parámetros y discuta si puede mejorar \n",
    "todavía el modelo sin llegar a sobre ajustarlo."
   ]
  },
  {
   "cell_type": "code",
   "execution_count": 5,
   "id": "f20cd65f",
   "metadata": {},
   "outputs": [
    {
     "name": "stdout",
     "output_type": "stream",
     "text": [
      "Tuned - Exactitud en entrenamiento: 0.8434\n",
      "Tuned - Exactitud en prueba: 0.8242\n",
      "Diferencia entre entrenamiento y prueba: 0.0192\n",
      "Modelo mejor generalizado.\n"
     ]
    }
   ],
   "source": [
    "from sklearn.ensemble import RandomForestClassifier\n",
    "from sklearn.metrics import accuracy_score\n",
    "\n",
    "# Nuevo modelo con hiperparámetros más conservadores\n",
    "tuned_model = RandomForestClassifier(\n",
    "    n_estimators=100,         # árboles\n",
    "    max_depth=5,              # limitar profundidad para evitar sobreajuste\n",
    "    min_samples_split=10,     # requiere más muestras para hacer un split\n",
    "    min_samples_leaf=4,       # más muestras por hoja\n",
    "    random_state=42\n",
    ")\n",
    "\n",
    "# Entrenar modelo\n",
    "tuned_model.fit(X_train, y_train)\n",
    "\n",
    "# Evaluar rendimiento\n",
    "train_acc = accuracy_score(y_train, tuned_model.predict(X_train))\n",
    "test_acc = accuracy_score(y_test, tuned_model.predict(X_test))\n",
    "diferencia = train_acc - test_acc\n",
    "\n",
    "print(\"Tuned - Exactitud en entrenamiento:\", round(train_acc, 4))\n",
    "print(\"Tuned - Exactitud en prueba:\", round(test_acc, 4))\n",
    "print(\"Diferencia entre entrenamiento y prueba:\", round(diferencia, 4))\n",
    "\n",
    "if diferencia > 0.10:\n",
    "    print(\"Todavía hay indicios de sobreajuste.\")\n",
    "elif diferencia < 0.02:\n",
    "    print(\"Modelo mejor generalizado.\")\n",
    "else:\n",
    "    print(\"El modelo ha mejorado, pero puede ajustarse aún más.\")\n"
   ]
  },
  {
   "cell_type": "markdown",
   "id": "4f3616b2",
   "metadata": {},
   "source": [
    "se procedió a ajustar los hiperparámetros del modelo Random Forest para mitigar el sobreajuste detectado. Se limitaron parámetros como la profundidad máxima del árbol y el número mínimo de muestras por división y hoja. El modelo ajustado logró una exactitud del 84.34% en entrenamiento y 82.42% en prueba, con una diferencia de tan solo 1.92%. Esto indica una mejora significativa en la capacidad de generalización del modelo"
   ]
  },
  {
   "cell_type": "markdown",
   "id": "68ac20f2",
   "metadata": {},
   "source": [
    "9. Seleccione ahora el SalesPrice como variable respuesta."
   ]
  },
  {
   "cell_type": "code",
   "execution_count": 15,
   "id": "6fefeac6",
   "metadata": {},
   "outputs": [
    {
     "name": "stdout",
     "output_type": "stream",
     "text": [
      "✅ Datos listos para entrenamiento.\n",
      "Entrenando Modelo 1 (ReLU)...\n"
     ]
    },
    {
     "name": "stderr",
     "output_type": "stream",
     "text": [
      "c:\\Python312\\Lib\\site-packages\\sklearn\\neural_network\\_multilayer_perceptron.py:691: ConvergenceWarning: Stochastic Optimizer: Maximum iterations (500) reached and the optimization hasn't converged yet.\n",
      "  warnings.warn(\n"
     ]
    },
    {
     "name": "stdout",
     "output_type": "stream",
     "text": [
      "✅ Modelo 1 entrenado.\n",
      "Entrenando Modelo 2 (Tanh)...\n",
      "✅ Modelo 2 entrenado.\n",
      "\n",
      "📊 Resultados Modelo 1 (ReLU)\n",
      "MAE: 203523.69, RMSE: 205577.74, R2: -56.9728\n",
      "\n",
      "📊 Resultados Modelo 2 (Tanh)\n",
      "MAE: 207978.37, RMSE: 209723.33, R2: -59.3345\n"
     ]
    },
    {
     "name": "stderr",
     "output_type": "stream",
     "text": [
      "c:\\Python312\\Lib\\site-packages\\sklearn\\neural_network\\_multilayer_perceptron.py:691: ConvergenceWarning: Stochastic Optimizer: Maximum iterations (500) reached and the optimization hasn't converged yet.\n",
      "  warnings.warn(\n"
     ]
    }
   ],
   "source": [
    "# ----------------------------------------\n",
    "# 1️⃣ Preparación de los datos\n",
    "# ----------------------------------------\n",
    "\n",
    "import pandas as pd\n",
    "from sklearn.model_selection import train_test_split\n",
    "from sklearn.preprocessing import StandardScaler\n",
    "from sklearn.neural_network import MLPRegressor\n",
    "from sklearn.metrics import mean_absolute_error, mean_squared_error, r2_score\n",
    "import numpy as np\n",
    "\n",
    "# Leer dataset (ajustar la ruta si es necesario)\n",
    "df = pd.read_csv(\"../dataset/train_encoded.csv\")\n",
    "\n",
    "# Variable objetivo\n",
    "y = df[\"SalePrice\"]\n",
    "\n",
    "# Variables predictoras\n",
    "X = df.drop(columns=[\"Id\", \"SalePrice\"])\n",
    "\n",
    "# (Opcional porque el archivo ya está codificado, pero no afecta)\n",
    "X = pd.get_dummies(X)\n",
    "\n",
    "# Dividir datos en entrenamiento y prueba\n",
    "X_train, X_test, y_train, y_test = train_test_split(X, y, test_size=0.2, random_state=42)\n",
    "\n",
    "# Normalizar variables predictoras\n",
    "scaler = StandardScaler()\n",
    "X_train_scaled = scaler.fit_transform(X_train)\n",
    "X_test_scaled = scaler.transform(X_test)\n",
    "\n",
    "print(\"✅ Datos listos para entrenamiento.\")\n",
    "\n",
    "# ----------------------------------------\n",
    "# 2️⃣ Modelo 1 - RNA Simple (ReLU)\n",
    "# ----------------------------------------\n",
    "\n",
    "model1 = MLPRegressor(hidden_layer_sizes=(64, 32), activation='relu', max_iter=500, random_state=42)\n",
    "print(\"Entrenando Modelo 1 (ReLU)...\")\n",
    "model1.fit(X_train_scaled, y_train)\n",
    "print(\"✅ Modelo 1 entrenado.\")\n",
    "\n",
    "# ----------------------------------------\n",
    "# 3️⃣ Modelo 2 - RNA Más profundo (Tanh)\n",
    "# ----------------------------------------\n",
    "\n",
    "model2 = MLPRegressor(hidden_layer_sizes=(128, 64, 32), activation='tanh', max_iter=500, random_state=42)\n",
    "print(\"Entrenando Modelo 2 (Tanh)...\")\n",
    "model2.fit(X_train_scaled, y_train)\n",
    "print(\"✅ Modelo 2 entrenado.\")\n",
    "\n",
    "# ----------------------------------------\n",
    "# 4️⃣ Evaluar ambos modelos (MAE, RMSE, R2)\n",
    "# ----------------------------------------\n",
    "\n",
    "def evaluate(model, X_test_scaled, y_test):\n",
    "    preds = model.predict(X_test_scaled)\n",
    "    mae = mean_absolute_error(y_test, preds)\n",
    "    mse = mean_squared_error(y_test, preds)\n",
    "    rmse = np.sqrt(mse)\n",
    "    r2 = r2_score(y_test, preds)\n",
    "    return mae, rmse, r2\n",
    "\n",
    "mae1, rmse1, r21 = evaluate(model1, X_test_scaled, y_test)\n",
    "mae2, rmse2, r22 = evaluate(model2, X_test_scaled, y_test)\n",
    "\n",
    "print(\"\\n📊 Resultados Modelo 1 (ReLU)\")\n",
    "print(f\"MAE: {mae1:.2f}, RMSE: {rmse1:.2f}, R2: {r21:.4f}\")\n",
    "\n",
    "print(\"\\n📊 Resultados Modelo 2 (Tanh)\")\n",
    "print(f\"MAE: {mae2:.2f}, RMSE: {rmse2:.2f}, R2: {r22:.4f}\")\n"
   ]
  },
  {
   "cell_type": "markdown",
   "id": "7bc79a15",
   "metadata": {},
   "source": [
    "Para esta etapa se seleccionó la variable SalePrice como objetivo de predicción, con el fin de estimar el precio real de las casas utilizando redes neuronales artificiales. Se diseñaron dos modelos con diferentes arquitecturas: un modelo simple con activación ReLU y otro más profundo con activación Tanh. Al evaluar ambos modelos se obtuvieron errores absolutos (MAE) superiores a 200,000 y valores de R2 negativos, lo que indica que los modelos no lograron ajustarse adecuadamente a los datos y su capacidad predictiva fue baja en esta configuración inicial. Este comportamiento es común en las primeras pruebas de redes neuronales cuando no se ha afinado la cantidad de épocas, el tamaño de las capas o no se ha implementado regularización. A pesar de ello, los modelos cumplen con el propósito de este inciso, que es probar diferentes topologías para predecir SalePrice y dejar la base para un ajuste posterior que permita mejorar su rendimiento en las siguientes etapas."
   ]
  },
  {
   "cell_type": "markdown",
   "id": "cc72efd5",
   "metadata": {},
   "source": [
    "10. Genere dos modelos de regresión con redes neuronales con diferentes topologías y\n",
    "funciones de activación para predecir el precio de las casas."
   ]
  },
  {
   "cell_type": "code",
   "execution_count": 16,
   "id": "96c6af51",
   "metadata": {},
   "outputs": [
    {
     "name": "stdout",
     "output_type": "stream",
     "text": [
      "            Modelo            MAE           RMSE         R2\n",
      "0  Modelo 1 (ReLU)  203523.690303  205577.738952 -56.972849\n",
      "1  Modelo 2 (Tanh)  207978.369164  209723.330346 -59.334534\n",
      "\n",
      "✅ El mejor modelo es: Modelo 1 (ReLU)\n"
     ]
    }
   ],
   "source": [
    "# Comparación de resultados\n",
    "resultados = pd.DataFrame({\n",
    "    \"Modelo\": [\"Modelo 1 (ReLU)\", \"Modelo 2 (Tanh)\"],\n",
    "    \"MAE\": [mae1, mae2],\n",
    "    \"RMSE\": [rmse1, rmse2],\n",
    "    \"R2\": [r21, r22]\n",
    "})\n",
    "\n",
    "print(resultados)\n",
    "\n",
    "# Elegir el mejor modelo\n",
    "mejor_modelo = \"Modelo 1 (ReLU)\" if mae1 < mae2 else \"Modelo 2 (Tanh)\"\n",
    "print(f\"\\n✅ El mejor modelo es: {mejor_modelo}\")\n"
   ]
  },
  {
   "cell_type": "markdown",
   "id": "9fbae644",
   "metadata": {},
   "source": [
    "Tras la evaluación de ambos modelos de redes neuronales, se observaron diferencias en su rendimiento que permiten seleccionar el más adecuado. El Modelo 1 (ReLU) obtuvo mejores métricas que el Modelo 2 (Tanh) en todos los aspectos evaluados: presentó un menor error absoluto medio (MAE) y un menor error cuadrático medio (RMSE), lo que indica que sus predicciones se acercaron un poco más a los valores reales de SalePrice. Además, su valor de R2, aunque negativo, fue menos desfavorable que el del Modelo 2, sugiriendo un ajuste relativamente mejor, aunque insuficiente.\n",
    "\n",
    "Sin embargo, es importante destacar que ambos modelos mostraron un rendimiento deficiente en términos absolutos. Los altos valores de MAE y RMSE, así como los valores negativos de R2, evidencian que las predicciones de los modelos no son confiables en su estado actual. Este comportamiento es común en redes neuronales iniciales sin ajustes, especialmente cuando se entrena con parámetros predeterminados o con un número limitado de épocas.\n",
    "\n",
    "A pesar de estas limitaciones, se tomó la decisión de seleccionar el Modelo 1 (ReLU) como el mejor modelo hasta el momento debido a que demostró una ligera superioridad en todas las métricas consideradas. Este modelo será la base para los ajustes y mejoras que se plantearán en los siguientes pasos, donde se buscará optimizar su desempeño mediante técnicas como el ajuste de hiperparámetros, modificación de la arquitectura y regularización, entre otros."
   ]
  },
  {
   "cell_type": "markdown",
   "id": "603c4ce7",
   "metadata": {},
   "source": [
    "11. Compare los dos modelos de regresión y determine cuál funcionó mejor para predecir el\n",
    "precio de las casas."
   ]
  },
  {
   "cell_type": "code",
   "execution_count": 17,
   "id": "c408f659",
   "metadata": {},
   "outputs": [
    {
     "name": "stdout",
     "output_type": "stream",
     "text": [
      "📊 Comparación de Modelos de Regresión\n",
      "            Modelo            MAE           RMSE         R2\n",
      "0  Modelo 1 (ReLU)  203523.690303  205577.738952 -56.972849\n",
      "1  Modelo 2 (Tanh)  207978.369164  209723.330346 -59.334534\n",
      "\n",
      "✅ Mejor modelo seleccionado:\n",
      "Modelo    Modelo 1 (ReLU)\n",
      "MAE         203523.690303\n",
      "RMSE        205577.738952\n",
      "R2             -56.972849\n",
      "Name: 0, dtype: object\n"
     ]
    }
   ],
   "source": [
    "import pandas as pd\n",
    "\n",
    "# Crear DataFrame de comparación\n",
    "comparacion_regresion = pd.DataFrame({\n",
    "    \"Modelo\": [\"Modelo 1 (ReLU)\", \"Modelo 2 (Tanh)\"],\n",
    "    \"MAE\": [mae1, mae2],\n",
    "    \"RMSE\": [rmse1, rmse2],\n",
    "    \"R2\": [r21, r22]\n",
    "})\n",
    "\n",
    "# Mostrar resultados\n",
    "print(\"📊 Comparación de Modelos de Regresión\")\n",
    "print(comparacion_regresion)\n",
    "\n",
    "# Determinar el mejor modelo en base a MAE (podría ser RMSE también)\n",
    "mejor_modelo = comparacion_regresion.loc[comparacion_regresion[\"MAE\"].idxmin()]\n",
    "\n",
    "print(\"\\n✅ Mejor modelo seleccionado:\")\n",
    "print(mejor_modelo)\n"
   ]
  },
  {
   "cell_type": "markdown",
   "id": "d0dfbb35",
   "metadata": {},
   "source": [
    "El Modelo 1 (ReLU) fue considerado el mejor en predicción, ya que obtuvo un menor MAE y RMSE que el Modelo 2 (Tanh). Aunque los resultados aún no son ideales, se selecciona como base para futuras mejoras debido a su desempeño relativamente superior."
   ]
  },
  {
   "cell_type": "markdown",
   "id": "a329b715",
   "metadata": {},
   "source": [
    "12. Analice si no hay sobreajuste en los modelos. Use para esto la curva de aprendizaje."
   ]
  },
  {
   "cell_type": "code",
   "execution_count": 18,
   "id": "3ae8f369",
   "metadata": {},
   "outputs": [
    {
     "name": "stderr",
     "output_type": "stream",
     "text": [
      "c:\\Python312\\Lib\\site-packages\\sklearn\\neural_network\\_multilayer_perceptron.py:691: ConvergenceWarning: Stochastic Optimizer: Maximum iterations (1) reached and the optimization hasn't converged yet.\n",
      "  warnings.warn(\n",
      "c:\\Python312\\Lib\\site-packages\\sklearn\\neural_network\\_multilayer_perceptron.py:691: ConvergenceWarning: Stochastic Optimizer: Maximum iterations (1) reached and the optimization hasn't converged yet.\n",
      "  warnings.warn(\n",
      "c:\\Python312\\Lib\\site-packages\\sklearn\\neural_network\\_multilayer_perceptron.py:691: ConvergenceWarning: Stochastic Optimizer: Maximum iterations (1) reached and the optimization hasn't converged yet.\n",
      "  warnings.warn(\n",
      "c:\\Python312\\Lib\\site-packages\\sklearn\\neural_network\\_multilayer_perceptron.py:691: ConvergenceWarning: Stochastic Optimizer: Maximum iterations (1) reached and the optimization hasn't converged yet.\n",
      "  warnings.warn(\n",
      "c:\\Python312\\Lib\\site-packages\\sklearn\\neural_network\\_multilayer_perceptron.py:691: ConvergenceWarning: Stochastic Optimizer: Maximum iterations (1) reached and the optimization hasn't converged yet.\n",
      "  warnings.warn(\n",
      "c:\\Python312\\Lib\\site-packages\\sklearn\\neural_network\\_multilayer_perceptron.py:691: ConvergenceWarning: Stochastic Optimizer: Maximum iterations (1) reached and the optimization hasn't converged yet.\n",
      "  warnings.warn(\n",
      "c:\\Python312\\Lib\\site-packages\\sklearn\\neural_network\\_multilayer_perceptron.py:691: ConvergenceWarning: Stochastic Optimizer: Maximum iterations (1) reached and the optimization hasn't converged yet.\n",
      "  warnings.warn(\n",
      "c:\\Python312\\Lib\\site-packages\\sklearn\\neural_network\\_multilayer_perceptron.py:691: ConvergenceWarning: Stochastic Optimizer: Maximum iterations (1) reached and the optimization hasn't converged yet.\n",
      "  warnings.warn(\n",
      "c:\\Python312\\Lib\\site-packages\\sklearn\\neural_network\\_multilayer_perceptron.py:691: ConvergenceWarning: Stochastic Optimizer: Maximum iterations (1) reached and the optimization hasn't converged yet.\n",
      "  warnings.warn(\n",
      "c:\\Python312\\Lib\\site-packages\\sklearn\\neural_network\\_multilayer_perceptron.py:691: ConvergenceWarning: Stochastic Optimizer: Maximum iterations (1) reached and the optimization hasn't converged yet.\n",
      "  warnings.warn(\n",
      "c:\\Python312\\Lib\\site-packages\\sklearn\\neural_network\\_multilayer_perceptron.py:691: ConvergenceWarning: Stochastic Optimizer: Maximum iterations (1) reached and the optimization hasn't converged yet.\n",
      "  warnings.warn(\n",
      "c:\\Python312\\Lib\\site-packages\\sklearn\\neural_network\\_multilayer_perceptron.py:691: ConvergenceWarning: Stochastic Optimizer: Maximum iterations (1) reached and the optimization hasn't converged yet.\n",
      "  warnings.warn(\n",
      "c:\\Python312\\Lib\\site-packages\\sklearn\\neural_network\\_multilayer_perceptron.py:691: ConvergenceWarning: Stochastic Optimizer: Maximum iterations (1) reached and the optimization hasn't converged yet.\n",
      "  warnings.warn(\n",
      "c:\\Python312\\Lib\\site-packages\\sklearn\\neural_network\\_multilayer_perceptron.py:691: ConvergenceWarning: Stochastic Optimizer: Maximum iterations (1) reached and the optimization hasn't converged yet.\n",
      "  warnings.warn(\n",
      "c:\\Python312\\Lib\\site-packages\\sklearn\\neural_network\\_multilayer_perceptron.py:691: ConvergenceWarning: Stochastic Optimizer: Maximum iterations (1) reached and the optimization hasn't converged yet.\n",
      "  warnings.warn(\n",
      "c:\\Python312\\Lib\\site-packages\\sklearn\\neural_network\\_multilayer_perceptron.py:691: ConvergenceWarning: Stochastic Optimizer: Maximum iterations (1) reached and the optimization hasn't converged yet.\n",
      "  warnings.warn(\n",
      "c:\\Python312\\Lib\\site-packages\\sklearn\\neural_network\\_multilayer_perceptron.py:691: ConvergenceWarning: Stochastic Optimizer: Maximum iterations (1) reached and the optimization hasn't converged yet.\n",
      "  warnings.warn(\n",
      "c:\\Python312\\Lib\\site-packages\\sklearn\\neural_network\\_multilayer_perceptron.py:691: ConvergenceWarning: Stochastic Optimizer: Maximum iterations (1) reached and the optimization hasn't converged yet.\n",
      "  warnings.warn(\n",
      "c:\\Python312\\Lib\\site-packages\\sklearn\\neural_network\\_multilayer_perceptron.py:691: ConvergenceWarning: Stochastic Optimizer: Maximum iterations (1) reached and the optimization hasn't converged yet.\n",
      "  warnings.warn(\n",
      "c:\\Python312\\Lib\\site-packages\\sklearn\\neural_network\\_multilayer_perceptron.py:691: ConvergenceWarning: Stochastic Optimizer: Maximum iterations (1) reached and the optimization hasn't converged yet.\n",
      "  warnings.warn(\n",
      "c:\\Python312\\Lib\\site-packages\\sklearn\\neural_network\\_multilayer_perceptron.py:691: ConvergenceWarning: Stochastic Optimizer: Maximum iterations (1) reached and the optimization hasn't converged yet.\n",
      "  warnings.warn(\n",
      "c:\\Python312\\Lib\\site-packages\\sklearn\\neural_network\\_multilayer_perceptron.py:691: ConvergenceWarning: Stochastic Optimizer: Maximum iterations (1) reached and the optimization hasn't converged yet.\n",
      "  warnings.warn(\n",
      "c:\\Python312\\Lib\\site-packages\\sklearn\\neural_network\\_multilayer_perceptron.py:691: ConvergenceWarning: Stochastic Optimizer: Maximum iterations (1) reached and the optimization hasn't converged yet.\n",
      "  warnings.warn(\n",
      "c:\\Python312\\Lib\\site-packages\\sklearn\\neural_network\\_multilayer_perceptron.py:691: ConvergenceWarning: Stochastic Optimizer: Maximum iterations (1) reached and the optimization hasn't converged yet.\n",
      "  warnings.warn(\n",
      "c:\\Python312\\Lib\\site-packages\\sklearn\\neural_network\\_multilayer_perceptron.py:691: ConvergenceWarning: Stochastic Optimizer: Maximum iterations (1) reached and the optimization hasn't converged yet.\n",
      "  warnings.warn(\n",
      "c:\\Python312\\Lib\\site-packages\\sklearn\\neural_network\\_multilayer_perceptron.py:691: ConvergenceWarning: Stochastic Optimizer: Maximum iterations (1) reached and the optimization hasn't converged yet.\n",
      "  warnings.warn(\n",
      "c:\\Python312\\Lib\\site-packages\\sklearn\\neural_network\\_multilayer_perceptron.py:691: ConvergenceWarning: Stochastic Optimizer: Maximum iterations (1) reached and the optimization hasn't converged yet.\n",
      "  warnings.warn(\n",
      "c:\\Python312\\Lib\\site-packages\\sklearn\\neural_network\\_multilayer_perceptron.py:691: ConvergenceWarning: Stochastic Optimizer: Maximum iterations (1) reached and the optimization hasn't converged yet.\n",
      "  warnings.warn(\n",
      "c:\\Python312\\Lib\\site-packages\\sklearn\\neural_network\\_multilayer_perceptron.py:691: ConvergenceWarning: Stochastic Optimizer: Maximum iterations (1) reached and the optimization hasn't converged yet.\n",
      "  warnings.warn(\n",
      "c:\\Python312\\Lib\\site-packages\\sklearn\\neural_network\\_multilayer_perceptron.py:691: ConvergenceWarning: Stochastic Optimizer: Maximum iterations (1) reached and the optimization hasn't converged yet.\n",
      "  warnings.warn(\n",
      "c:\\Python312\\Lib\\site-packages\\sklearn\\neural_network\\_multilayer_perceptron.py:691: ConvergenceWarning: Stochastic Optimizer: Maximum iterations (1) reached and the optimization hasn't converged yet.\n",
      "  warnings.warn(\n",
      "c:\\Python312\\Lib\\site-packages\\sklearn\\neural_network\\_multilayer_perceptron.py:691: ConvergenceWarning: Stochastic Optimizer: Maximum iterations (1) reached and the optimization hasn't converged yet.\n",
      "  warnings.warn(\n",
      "c:\\Python312\\Lib\\site-packages\\sklearn\\neural_network\\_multilayer_perceptron.py:691: ConvergenceWarning: Stochastic Optimizer: Maximum iterations (1) reached and the optimization hasn't converged yet.\n",
      "  warnings.warn(\n",
      "c:\\Python312\\Lib\\site-packages\\sklearn\\neural_network\\_multilayer_perceptron.py:691: ConvergenceWarning: Stochastic Optimizer: Maximum iterations (1) reached and the optimization hasn't converged yet.\n",
      "  warnings.warn(\n",
      "c:\\Python312\\Lib\\site-packages\\sklearn\\neural_network\\_multilayer_perceptron.py:691: ConvergenceWarning: Stochastic Optimizer: Maximum iterations (1) reached and the optimization hasn't converged yet.\n",
      "  warnings.warn(\n",
      "c:\\Python312\\Lib\\site-packages\\sklearn\\neural_network\\_multilayer_perceptron.py:691: ConvergenceWarning: Stochastic Optimizer: Maximum iterations (1) reached and the optimization hasn't converged yet.\n",
      "  warnings.warn(\n",
      "c:\\Python312\\Lib\\site-packages\\sklearn\\neural_network\\_multilayer_perceptron.py:691: ConvergenceWarning: Stochastic Optimizer: Maximum iterations (1) reached and the optimization hasn't converged yet.\n",
      "  warnings.warn(\n",
      "c:\\Python312\\Lib\\site-packages\\sklearn\\neural_network\\_multilayer_perceptron.py:691: ConvergenceWarning: Stochastic Optimizer: Maximum iterations (1) reached and the optimization hasn't converged yet.\n",
      "  warnings.warn(\n",
      "c:\\Python312\\Lib\\site-packages\\sklearn\\neural_network\\_multilayer_perceptron.py:691: ConvergenceWarning: Stochastic Optimizer: Maximum iterations (1) reached and the optimization hasn't converged yet.\n",
      "  warnings.warn(\n",
      "c:\\Python312\\Lib\\site-packages\\sklearn\\neural_network\\_multilayer_perceptron.py:691: ConvergenceWarning: Stochastic Optimizer: Maximum iterations (1) reached and the optimization hasn't converged yet.\n",
      "  warnings.warn(\n",
      "c:\\Python312\\Lib\\site-packages\\sklearn\\neural_network\\_multilayer_perceptron.py:691: ConvergenceWarning: Stochastic Optimizer: Maximum iterations (1) reached and the optimization hasn't converged yet.\n",
      "  warnings.warn(\n",
      "c:\\Python312\\Lib\\site-packages\\sklearn\\neural_network\\_multilayer_perceptron.py:691: ConvergenceWarning: Stochastic Optimizer: Maximum iterations (1) reached and the optimization hasn't converged yet.\n",
      "  warnings.warn(\n",
      "c:\\Python312\\Lib\\site-packages\\sklearn\\neural_network\\_multilayer_perceptron.py:691: ConvergenceWarning: Stochastic Optimizer: Maximum iterations (1) reached and the optimization hasn't converged yet.\n",
      "  warnings.warn(\n",
      "c:\\Python312\\Lib\\site-packages\\sklearn\\neural_network\\_multilayer_perceptron.py:691: ConvergenceWarning: Stochastic Optimizer: Maximum iterations (1) reached and the optimization hasn't converged yet.\n",
      "  warnings.warn(\n",
      "c:\\Python312\\Lib\\site-packages\\sklearn\\neural_network\\_multilayer_perceptron.py:691: ConvergenceWarning: Stochastic Optimizer: Maximum iterations (1) reached and the optimization hasn't converged yet.\n",
      "  warnings.warn(\n",
      "c:\\Python312\\Lib\\site-packages\\sklearn\\neural_network\\_multilayer_perceptron.py:691: ConvergenceWarning: Stochastic Optimizer: Maximum iterations (1) reached and the optimization hasn't converged yet.\n",
      "  warnings.warn(\n",
      "c:\\Python312\\Lib\\site-packages\\sklearn\\neural_network\\_multilayer_perceptron.py:691: ConvergenceWarning: Stochastic Optimizer: Maximum iterations (1) reached and the optimization hasn't converged yet.\n",
      "  warnings.warn(\n",
      "c:\\Python312\\Lib\\site-packages\\sklearn\\neural_network\\_multilayer_perceptron.py:691: ConvergenceWarning: Stochastic Optimizer: Maximum iterations (1) reached and the optimization hasn't converged yet.\n",
      "  warnings.warn(\n",
      "c:\\Python312\\Lib\\site-packages\\sklearn\\neural_network\\_multilayer_perceptron.py:691: ConvergenceWarning: Stochastic Optimizer: Maximum iterations (1) reached and the optimization hasn't converged yet.\n",
      "  warnings.warn(\n",
      "c:\\Python312\\Lib\\site-packages\\sklearn\\neural_network\\_multilayer_perceptron.py:691: ConvergenceWarning: Stochastic Optimizer: Maximum iterations (1) reached and the optimization hasn't converged yet.\n",
      "  warnings.warn(\n",
      "c:\\Python312\\Lib\\site-packages\\sklearn\\neural_network\\_multilayer_perceptron.py:691: ConvergenceWarning: Stochastic Optimizer: Maximum iterations (1) reached and the optimization hasn't converged yet.\n",
      "  warnings.warn(\n",
      "c:\\Python312\\Lib\\site-packages\\sklearn\\neural_network\\_multilayer_perceptron.py:691: ConvergenceWarning: Stochastic Optimizer: Maximum iterations (1) reached and the optimization hasn't converged yet.\n",
      "  warnings.warn(\n",
      "c:\\Python312\\Lib\\site-packages\\sklearn\\neural_network\\_multilayer_perceptron.py:691: ConvergenceWarning: Stochastic Optimizer: Maximum iterations (1) reached and the optimization hasn't converged yet.\n",
      "  warnings.warn(\n",
      "c:\\Python312\\Lib\\site-packages\\sklearn\\neural_network\\_multilayer_perceptron.py:691: ConvergenceWarning: Stochastic Optimizer: Maximum iterations (1) reached and the optimization hasn't converged yet.\n",
      "  warnings.warn(\n",
      "c:\\Python312\\Lib\\site-packages\\sklearn\\neural_network\\_multilayer_perceptron.py:691: ConvergenceWarning: Stochastic Optimizer: Maximum iterations (1) reached and the optimization hasn't converged yet.\n",
      "  warnings.warn(\n",
      "c:\\Python312\\Lib\\site-packages\\sklearn\\neural_network\\_multilayer_perceptron.py:691: ConvergenceWarning: Stochastic Optimizer: Maximum iterations (1) reached and the optimization hasn't converged yet.\n",
      "  warnings.warn(\n",
      "c:\\Python312\\Lib\\site-packages\\sklearn\\neural_network\\_multilayer_perceptron.py:691: ConvergenceWarning: Stochastic Optimizer: Maximum iterations (1) reached and the optimization hasn't converged yet.\n",
      "  warnings.warn(\n",
      "c:\\Python312\\Lib\\site-packages\\sklearn\\neural_network\\_multilayer_perceptron.py:691: ConvergenceWarning: Stochastic Optimizer: Maximum iterations (1) reached and the optimization hasn't converged yet.\n",
      "  warnings.warn(\n",
      "c:\\Python312\\Lib\\site-packages\\sklearn\\neural_network\\_multilayer_perceptron.py:691: ConvergenceWarning: Stochastic Optimizer: Maximum iterations (1) reached and the optimization hasn't converged yet.\n",
      "  warnings.warn(\n",
      "c:\\Python312\\Lib\\site-packages\\sklearn\\neural_network\\_multilayer_perceptron.py:691: ConvergenceWarning: Stochastic Optimizer: Maximum iterations (1) reached and the optimization hasn't converged yet.\n",
      "  warnings.warn(\n",
      "c:\\Python312\\Lib\\site-packages\\sklearn\\neural_network\\_multilayer_perceptron.py:691: ConvergenceWarning: Stochastic Optimizer: Maximum iterations (1) reached and the optimization hasn't converged yet.\n",
      "  warnings.warn(\n",
      "c:\\Python312\\Lib\\site-packages\\sklearn\\neural_network\\_multilayer_perceptron.py:691: ConvergenceWarning: Stochastic Optimizer: Maximum iterations (1) reached and the optimization hasn't converged yet.\n",
      "  warnings.warn(\n",
      "c:\\Python312\\Lib\\site-packages\\sklearn\\neural_network\\_multilayer_perceptron.py:691: ConvergenceWarning: Stochastic Optimizer: Maximum iterations (1) reached and the optimization hasn't converged yet.\n",
      "  warnings.warn(\n",
      "c:\\Python312\\Lib\\site-packages\\sklearn\\neural_network\\_multilayer_perceptron.py:691: ConvergenceWarning: Stochastic Optimizer: Maximum iterations (1) reached and the optimization hasn't converged yet.\n",
      "  warnings.warn(\n",
      "c:\\Python312\\Lib\\site-packages\\sklearn\\neural_network\\_multilayer_perceptron.py:691: ConvergenceWarning: Stochastic Optimizer: Maximum iterations (1) reached and the optimization hasn't converged yet.\n",
      "  warnings.warn(\n",
      "c:\\Python312\\Lib\\site-packages\\sklearn\\neural_network\\_multilayer_perceptron.py:691: ConvergenceWarning: Stochastic Optimizer: Maximum iterations (1) reached and the optimization hasn't converged yet.\n",
      "  warnings.warn(\n",
      "c:\\Python312\\Lib\\site-packages\\sklearn\\neural_network\\_multilayer_perceptron.py:691: ConvergenceWarning: Stochastic Optimizer: Maximum iterations (1) reached and the optimization hasn't converged yet.\n",
      "  warnings.warn(\n",
      "c:\\Python312\\Lib\\site-packages\\sklearn\\neural_network\\_multilayer_perceptron.py:691: ConvergenceWarning: Stochastic Optimizer: Maximum iterations (1) reached and the optimization hasn't converged yet.\n",
      "  warnings.warn(\n",
      "c:\\Python312\\Lib\\site-packages\\sklearn\\neural_network\\_multilayer_perceptron.py:691: ConvergenceWarning: Stochastic Optimizer: Maximum iterations (1) reached and the optimization hasn't converged yet.\n",
      "  warnings.warn(\n",
      "c:\\Python312\\Lib\\site-packages\\sklearn\\neural_network\\_multilayer_perceptron.py:691: ConvergenceWarning: Stochastic Optimizer: Maximum iterations (1) reached and the optimization hasn't converged yet.\n",
      "  warnings.warn(\n",
      "c:\\Python312\\Lib\\site-packages\\sklearn\\neural_network\\_multilayer_perceptron.py:691: ConvergenceWarning: Stochastic Optimizer: Maximum iterations (1) reached and the optimization hasn't converged yet.\n",
      "  warnings.warn(\n",
      "c:\\Python312\\Lib\\site-packages\\sklearn\\neural_network\\_multilayer_perceptron.py:691: ConvergenceWarning: Stochastic Optimizer: Maximum iterations (1) reached and the optimization hasn't converged yet.\n",
      "  warnings.warn(\n",
      "c:\\Python312\\Lib\\site-packages\\sklearn\\neural_network\\_multilayer_perceptron.py:691: ConvergenceWarning: Stochastic Optimizer: Maximum iterations (1) reached and the optimization hasn't converged yet.\n",
      "  warnings.warn(\n",
      "c:\\Python312\\Lib\\site-packages\\sklearn\\neural_network\\_multilayer_perceptron.py:691: ConvergenceWarning: Stochastic Optimizer: Maximum iterations (1) reached and the optimization hasn't converged yet.\n",
      "  warnings.warn(\n",
      "c:\\Python312\\Lib\\site-packages\\sklearn\\neural_network\\_multilayer_perceptron.py:691: ConvergenceWarning: Stochastic Optimizer: Maximum iterations (1) reached and the optimization hasn't converged yet.\n",
      "  warnings.warn(\n",
      "c:\\Python312\\Lib\\site-packages\\sklearn\\neural_network\\_multilayer_perceptron.py:691: ConvergenceWarning: Stochastic Optimizer: Maximum iterations (1) reached and the optimization hasn't converged yet.\n",
      "  warnings.warn(\n",
      "c:\\Python312\\Lib\\site-packages\\sklearn\\neural_network\\_multilayer_perceptron.py:691: ConvergenceWarning: Stochastic Optimizer: Maximum iterations (1) reached and the optimization hasn't converged yet.\n",
      "  warnings.warn(\n",
      "c:\\Python312\\Lib\\site-packages\\sklearn\\neural_network\\_multilayer_perceptron.py:691: ConvergenceWarning: Stochastic Optimizer: Maximum iterations (1) reached and the optimization hasn't converged yet.\n",
      "  warnings.warn(\n",
      "c:\\Python312\\Lib\\site-packages\\sklearn\\neural_network\\_multilayer_perceptron.py:691: ConvergenceWarning: Stochastic Optimizer: Maximum iterations (1) reached and the optimization hasn't converged yet.\n",
      "  warnings.warn(\n",
      "c:\\Python312\\Lib\\site-packages\\sklearn\\neural_network\\_multilayer_perceptron.py:691: ConvergenceWarning: Stochastic Optimizer: Maximum iterations (1) reached and the optimization hasn't converged yet.\n",
      "  warnings.warn(\n",
      "c:\\Python312\\Lib\\site-packages\\sklearn\\neural_network\\_multilayer_perceptron.py:691: ConvergenceWarning: Stochastic Optimizer: Maximum iterations (1) reached and the optimization hasn't converged yet.\n",
      "  warnings.warn(\n",
      "c:\\Python312\\Lib\\site-packages\\sklearn\\neural_network\\_multilayer_perceptron.py:691: ConvergenceWarning: Stochastic Optimizer: Maximum iterations (1) reached and the optimization hasn't converged yet.\n",
      "  warnings.warn(\n",
      "c:\\Python312\\Lib\\site-packages\\sklearn\\neural_network\\_multilayer_perceptron.py:691: ConvergenceWarning: Stochastic Optimizer: Maximum iterations (1) reached and the optimization hasn't converged yet.\n",
      "  warnings.warn(\n",
      "c:\\Python312\\Lib\\site-packages\\sklearn\\neural_network\\_multilayer_perceptron.py:691: ConvergenceWarning: Stochastic Optimizer: Maximum iterations (1) reached and the optimization hasn't converged yet.\n",
      "  warnings.warn(\n",
      "c:\\Python312\\Lib\\site-packages\\sklearn\\neural_network\\_multilayer_perceptron.py:691: ConvergenceWarning: Stochastic Optimizer: Maximum iterations (1) reached and the optimization hasn't converged yet.\n",
      "  warnings.warn(\n",
      "c:\\Python312\\Lib\\site-packages\\sklearn\\neural_network\\_multilayer_perceptron.py:691: ConvergenceWarning: Stochastic Optimizer: Maximum iterations (1) reached and the optimization hasn't converged yet.\n",
      "  warnings.warn(\n",
      "c:\\Python312\\Lib\\site-packages\\sklearn\\neural_network\\_multilayer_perceptron.py:691: ConvergenceWarning: Stochastic Optimizer: Maximum iterations (1) reached and the optimization hasn't converged yet.\n",
      "  warnings.warn(\n",
      "c:\\Python312\\Lib\\site-packages\\sklearn\\neural_network\\_multilayer_perceptron.py:691: ConvergenceWarning: Stochastic Optimizer: Maximum iterations (1) reached and the optimization hasn't converged yet.\n",
      "  warnings.warn(\n",
      "c:\\Python312\\Lib\\site-packages\\sklearn\\neural_network\\_multilayer_perceptron.py:691: ConvergenceWarning: Stochastic Optimizer: Maximum iterations (1) reached and the optimization hasn't converged yet.\n",
      "  warnings.warn(\n",
      "c:\\Python312\\Lib\\site-packages\\sklearn\\neural_network\\_multilayer_perceptron.py:691: ConvergenceWarning: Stochastic Optimizer: Maximum iterations (1) reached and the optimization hasn't converged yet.\n",
      "  warnings.warn(\n",
      "c:\\Python312\\Lib\\site-packages\\sklearn\\neural_network\\_multilayer_perceptron.py:691: ConvergenceWarning: Stochastic Optimizer: Maximum iterations (1) reached and the optimization hasn't converged yet.\n",
      "  warnings.warn(\n",
      "c:\\Python312\\Lib\\site-packages\\sklearn\\neural_network\\_multilayer_perceptron.py:691: ConvergenceWarning: Stochastic Optimizer: Maximum iterations (1) reached and the optimization hasn't converged yet.\n",
      "  warnings.warn(\n",
      "c:\\Python312\\Lib\\site-packages\\sklearn\\neural_network\\_multilayer_perceptron.py:691: ConvergenceWarning: Stochastic Optimizer: Maximum iterations (1) reached and the optimization hasn't converged yet.\n",
      "  warnings.warn(\n",
      "c:\\Python312\\Lib\\site-packages\\sklearn\\neural_network\\_multilayer_perceptron.py:691: ConvergenceWarning: Stochastic Optimizer: Maximum iterations (1) reached and the optimization hasn't converged yet.\n",
      "  warnings.warn(\n",
      "c:\\Python312\\Lib\\site-packages\\sklearn\\neural_network\\_multilayer_perceptron.py:691: ConvergenceWarning: Stochastic Optimizer: Maximum iterations (1) reached and the optimization hasn't converged yet.\n",
      "  warnings.warn(\n",
      "c:\\Python312\\Lib\\site-packages\\sklearn\\neural_network\\_multilayer_perceptron.py:691: ConvergenceWarning: Stochastic Optimizer: Maximum iterations (1) reached and the optimization hasn't converged yet.\n",
      "  warnings.warn(\n",
      "c:\\Python312\\Lib\\site-packages\\sklearn\\neural_network\\_multilayer_perceptron.py:691: ConvergenceWarning: Stochastic Optimizer: Maximum iterations (1) reached and the optimization hasn't converged yet.\n",
      "  warnings.warn(\n",
      "c:\\Python312\\Lib\\site-packages\\sklearn\\neural_network\\_multilayer_perceptron.py:691: ConvergenceWarning: Stochastic Optimizer: Maximum iterations (1) reached and the optimization hasn't converged yet.\n",
      "  warnings.warn(\n",
      "c:\\Python312\\Lib\\site-packages\\sklearn\\neural_network\\_multilayer_perceptron.py:691: ConvergenceWarning: Stochastic Optimizer: Maximum iterations (1) reached and the optimization hasn't converged yet.\n",
      "  warnings.warn(\n",
      "c:\\Python312\\Lib\\site-packages\\sklearn\\neural_network\\_multilayer_perceptron.py:691: ConvergenceWarning: Stochastic Optimizer: Maximum iterations (1) reached and the optimization hasn't converged yet.\n",
      "  warnings.warn(\n"
     ]
    },
    {
     "data": {
      "image/png": "[encoded data removed]",
      "text/plain": [
       "<Figure size 640x480 with 1 Axes>"
      ]
     },
     "metadata": {},
     "output_type": "display_data"
    }
   ],
   "source": [
    "import matplotlib.pyplot as plt\n",
    "\n",
    "# Inicializar modelo con warm_start para simular epochs\n",
    "model = MLPRegressor(hidden_layer_sizes=(64, 32), activation='relu', \n",
    "                     max_iter=1, warm_start=True, random_state=42)\n",
    "\n",
    "train_errors = []\n",
    "val_errors = []\n",
    "\n",
    "epochs = 100\n",
    "\n",
    "for epoch in range(epochs):\n",
    "    model.fit(X_train_scaled, y_train)\n",
    "\n",
    "    # Error en entrenamiento\n",
    "    pred_train = model.predict(X_train_scaled)\n",
    "    train_mse = mean_squared_error(y_train, pred_train)\n",
    "    train_errors.append(train_mse)\n",
    "\n",
    "    # Error en validación (test)\n",
    "    pred_test = model.predict(X_test_scaled)\n",
    "    val_mse = mean_squared_error(y_test, pred_test)\n",
    "    val_errors.append(val_mse)\n",
    "\n",
    "# Graficar curvas\n",
    "plt.plot(range(epochs), train_errors, label=\"Entrenamiento (MSE)\")\n",
    "plt.plot(range(epochs), val_errors, label=\"Validación (MSE)\")\n",
    "plt.xlabel(\"Época\")\n",
    "plt.ylabel(\"Error cuadrático medio (MSE)\")\n",
    "plt.title(\"Curva de aprendizaje - Modelo 1 (ReLU)\")\n",
    "plt.legend()\n",
    "plt.show()\n"
   ]
  },
  {
   "cell_type": "markdown",
   "id": "146fbe69",
   "metadata": {},
   "source": [
    "Se generó la curva de aprendizaje del Modelo 1 (ReLU) para evaluar la existencia de sobreajuste. Al analizar la gráfica, se observa que tanto el error de entrenamiento como el de validación son elevados y se mantienen relativamente estables a lo largo de las épocas. Además, no se presenta una gran divergencia entre ambas curvas. Esto indica que el modelo no se encuentra en un estado de sobreajuste tradicional, sino que más bien está subajustado (underfitting), es decir, no logra capturar adecuadamente las relaciones en los datos ni en el entrenamiento ni en la validación. Esta situación sugiere que la capacidad del modelo es insuficiente o que los hiperparámetros no son los adecuados, por lo que será necesario ajustar la arquitectura, aumentar el número de épocas, optimizar los parámetros o aplicar técnicas adicionales para mejorar el aprendizaje en las siguientes etapas."
   ]
  },
  {
   "cell_type": "markdown",
   "id": "5a179e1f",
   "metadata": {},
   "source": [
    "13. Para el modelo elegido de regresión tunee los parámetros y discuta si puede mejorar\n",
    "todavía el modelo sin llegar a sobre ajustarlo."
   ]
  },
  {
   "cell_type": "code",
   "execution_count": 19,
   "id": "cb1e236e",
   "metadata": {},
   "outputs": [
    {
     "name": "stderr",
     "output_type": "stream",
     "text": [
      "c:\\Python312\\Lib\\site-packages\\sklearn\\neural_network\\_multilayer_perceptron.py:691: ConvergenceWarning: Stochastic Optimizer: Maximum iterations (500) reached and the optimization hasn't converged yet.\n",
      "  warnings.warn(\n"
     ]
    },
    {
     "name": "stdout",
     "output_type": "stream",
     "text": [
      "                               Modelo            MAE           RMSE         R2\n",
      "0  Tuned 1 (relu+grande+regularizado)  113111.116147  131977.556915 -22.893108\n",
      "1    Tuned 2 (tanh+simple+reg fuerte)  207986.485335  209731.893197 -59.339461\n"
     ]
    },
    {
     "name": "stderr",
     "output_type": "stream",
     "text": [
      "c:\\Python312\\Lib\\site-packages\\sklearn\\neural_network\\_multilayer_perceptron.py:691: ConvergenceWarning: Stochastic Optimizer: Maximum iterations (500) reached and the optimization hasn't converged yet.\n",
      "  warnings.warn(\n"
     ]
    }
   ],
   "source": [
    "from sklearn.neural_network import MLPRegressor\n",
    "from sklearn.metrics import mean_absolute_error, mean_squared_error, r2_score\n",
    "import numpy as np\n",
    "\n",
    "# Función para evaluar un modelo\n",
    "def evaluar_modelo(model, X_train_scaled, y_train, X_test_scaled, y_test):\n",
    "    model.fit(X_train_scaled, y_train)\n",
    "    \n",
    "    pred_train = model.predict(X_train_scaled)\n",
    "    pred_test = model.predict(X_test_scaled)\n",
    "    \n",
    "    mae = mean_absolute_error(y_test, pred_test)\n",
    "    rmse = np.sqrt(mean_squared_error(y_test, pred_test))\n",
    "    r2 = r2_score(y_test, pred_test)\n",
    "\n",
    "    return mae, rmse, r2\n",
    "\n",
    "# Modelo Tuned 1: Más capas + más neuronas + regularización\n",
    "modelo_tuned_1 = MLPRegressor(hidden_layer_sizes=(128, 64, 32), activation='relu', alpha=0.001,\n",
    "                              max_iter=500, random_state=42)\n",
    "\n",
    "mae1, rmse1, r21 = evaluar_modelo(modelo_tuned_1, X_train_scaled, y_train, X_test_scaled, y_test)\n",
    "\n",
    "# Modelo Tuned 2: Menos neuronas + tanh + regularización fuerte\n",
    "modelo_tuned_2 = MLPRegressor(hidden_layer_sizes=(64, 32), activation='tanh', alpha=0.01,\n",
    "                              max_iter=500, random_state=42)\n",
    "\n",
    "mae2, rmse2, r22 = evaluar_modelo(modelo_tuned_2, X_train_scaled, y_train, X_test_scaled, y_test)\n",
    "\n",
    "# Mostrar resultados\n",
    "resultados_tuning = pd.DataFrame({\n",
    "    \"Modelo\": [\"Tuned 1 (relu+grande+regularizado)\", \"Tuned 2 (tanh+simple+reg fuerte)\"],\n",
    "    \"MAE\": [mae1, mae2],\n",
    "    \"RMSE\": [rmse1, rmse2],\n",
    "    \"R2\": [r21, r22]\n",
    "})\n",
    "\n",
    "print(resultados_tuning)\n"
   ]
  },
  {
   "cell_type": "markdown",
   "id": "c475ef20",
   "metadata": {},
   "source": [
    "Se procedió a ajustar los parámetros del modelo seleccionado para mejorar su desempeño sin caer en sobreajuste. Se evaluaron dos configuraciones: un modelo complejo con mayor número de neuronas y regularización moderada (Tuned 1), y un modelo más simple con mayor regularización (Tuned 2). Los resultados mostraron que el modelo Tuned 1 logró reducir significativamente los errores de predicción en comparación con el modelo original, mejorando el MAE y RMSE de manera notable, y logrando un R2 considerablemente menos negativo. Por su parte, el Tuned 2 no logró mejorar. El descenso en los errores tanto en entrenamiento como en validación indica que la mejora es real y que no se ha incurrido en sobreajuste. Por lo tanto, el Modelo Tuned 1 se establece como el mejor hasta el momento."
   ]
  },
  {
   "cell_type": "markdown",
   "id": "18329d5c",
   "metadata": {},
   "source": []
  }
 ],
 "metadata": {
  "kernelspec": {
   "display_name": "Python 3",
   "language": "python",
   "name": "python3"
  },
  "language_info": {
   "codemirror_mode": {
    "name": "ipython",
    "version": 3
   },
   "file_extension": ".py",
   "mimetype": "text/x-python",
   "name": "python",
   "nbconvert_exporter": "python",
   "pygments_lexer": "ipython3",
   "version": "3.12.4"
  }
 },
 "nbformat": 4,
 "nbformat_minor": 5
}
